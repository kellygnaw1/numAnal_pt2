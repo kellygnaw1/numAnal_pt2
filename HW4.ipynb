{
 "cells": [
  {
   "cell_type": "markdown",
   "metadata": {},
   "source": [
    "# Math 104B Homework 1\n",
    "**Name.** <span style=\"color:red\">Kelly Wang</span> <br>\n",
    "**Id.** <span style=\"color:red\">5351010</span>\n",
    "\n",
    "## Exercise 1\n",
    "In the cell below I will implement the algorithm for Gaussian Elimination with Backward Substitution for the solution $\\mathbf{Ax=b}$ and run the appropriate tests.\n",
    "\n",
    "#### 1a\n",
    "My numbers for 1a look reasonable and correct because the difference between the randomly generated x and the x found through gaussian elimination and backward substitution is almost 0.\n",
    "\n",
    "\n",
    "#### 1b\n",
    "My numbers for 1b look reasonable and correct because the difference between the np.linalg.solve generated x and the x found through gaussian elimination and backward substitution is almost 0. \n",
    "\n",
    "#### 1c\n",
    "This is scaled by k because the time for each type of computation is scaled by the size of our matrix which gets determined by k. From the graph, we can see that our solution with Gaussian Elimination and backward substitution is much slower than python's np.linalg.solve(). "
   ]
  },
  {
   "cell_type": "code",
   "execution_count": 6,
   "metadata": {},
   "outputs": [
    {
     "name": "stdout",
     "output_type": "stream",
     "text": [
      "1a: The following are the errors for Ax = b where A and x are randomly generated for k = 0, 1,..., 6.\n",
      "\n",
      "k = 0  :  1.6653345369377348e-16 \n",
      "\n",
      "k = 1  :  5.2562121322097255e-16 \n",
      "\n",
      "k = 2  :  1.1102230246251565e-15 \n",
      "\n",
      "k = 3  :  3.524958103184872e-15 \n",
      "\n",
      "k = 4  :  1.5751289161869408e-14 \n",
      "\n",
      "k = 5  :  8.200662371393719e-13 \n",
      "\n",
      "k = 6  :  1.524546044961994e-10 \n",
      "\n",
      "1b: The following are the errors for Ax=b where A and b are randomly generated for k = 0, 1,..., 6. \n",
      "\n",
      "k = 0  :  5.551115123125783e-17 \n",
      "\n",
      "k = 1  :  4.163336342344337e-17 \n",
      "\n",
      "k = 2  :  8.326672684688674e-17 \n",
      "\n",
      "k = 3  :  1.942890293094024e-16 \n",
      "\n",
      "k = 4  :  1.0269562977782698e-15 \n",
      "\n",
      "k = 5  :  4.2021941482062175e-13 \n",
      "\n",
      "k = 6  :  4.539870701592008e-10 \n",
      "\n"
     ]
    },
    {
     "data": {
      "text/plain": [
       "<matplotlib.legend.Legend at 0x123ee2518>"
      ]
     },
     "execution_count": 6,
     "metadata": {},
     "output_type": "execute_result"
    },
    {
     "data": {
      "image/png": "[encoded data removed]",
      "text/plain": [
       "<Figure size 432x288 with 1 Axes>"
      ]
     },
     "metadata": {
      "needs_background": "light"
     },
     "output_type": "display_data"
    }
   ],
   "source": [
    "#code for matrix, Gaussian Elimination, Backward Substitution \n",
    "import numpy as np\n",
    "import matplotlib.pyplot as plt\n",
    "import timeit\n",
    "import time\n",
    "#matrix \n",
    "def matrix(k):\n",
    "    n = 10*(2**k)\n",
    "    A = 4.0*np.identity(n) + np.random.rand(n,n)\n",
    "    x = np.random.rand(n)\n",
    "    b = A.dot(x)\n",
    "    return A, b, x, n\n",
    "\n",
    "# Gaussian Elimination\n",
    "def gaussian_elimination(A, b):\n",
    "    n = len(A)\n",
    "    m = len(A[0])\n",
    "    for i in range(n-1):\n",
    "        for j in range(i+1, n):\n",
    "            m = A[j][i]/A[i][i]\n",
    "            for k in range(i+1, n):\n",
    "                A[j][k] = A[j][k] - m*A[i][k]\n",
    "            b[j] = b[j] - m*b[i]\n",
    "    return A, b\n",
    "\n",
    "\n",
    "# Backward Susbstitution \n",
    "def backward_sub(U, y):\n",
    "    n = len(U)\n",
    "    m = len(U[0])\n",
    "    x = np.zeros(n)\n",
    "    x[n-1] = b[n-1]/U[n-1][n-1]\n",
    "    for i in range(n-2, -1, -1):\n",
    "        summation = 0\n",
    "        for j in range(i+1, n):\n",
    "            summation += U[i][j]*x[j]\n",
    "        x[i] = (b[i] - summation)/U[i][i]\n",
    "    return x\n",
    "\n",
    "\n",
    "print(\"1a: The following are the errors for Ax = b where A and x are randomly generated for k = 0, 1,..., 6.\\n\")\n",
    "for i in range(0,7):\n",
    "    A, b, x, junk1 = matrix(i)\n",
    "    U, y = gaussian_elimination(A, b)\n",
    "    x_back = backward_sub(U, y)\n",
    "    print(\"k =\", i, \" : \", max(abs(x-x_back)), '\\n')\n",
    "    \n",
    "print(\"1b: The following are the errors for Ax=b where A and b are randomly generated for k = 0, 1,..., 6. \\n\")\n",
    "for i in range(0,7):\n",
    "    A, junk1, junk2, n = matrix(i)\n",
    "    b = np.random.rand(n)\n",
    "    x = np.linalg.solve(A, b)\n",
    "    U, y = gaussian_elimination(A, b)\n",
    "    x_back = backward_sub(U, y)\n",
    "    print(\"k =\", i, \" : \", max(abs(x-x_back)), '\\n')\n",
    "\n",
    "#for 1c\n",
    "linalg_timer = []\n",
    "gaussian_timer = []\n",
    "for i in range(0, 7):\n",
    "    A, junk1, junk2, n = matrix(i)\n",
    "    b = np.random.rand(n)\n",
    "    start1 = time.time()\n",
    "    x = np.linalg.solve(A,b)\n",
    "    linalg_timer.append(time.time() - start1)\n",
    "    \n",
    "    start2 = time.time()\n",
    "    U,y = gaussian_elimination(A, b)\n",
    "    x_back = backward_sub(U, y)\n",
    "    gaussian_timer.append(time.time() - start2)\n",
    "    \n",
    "k = np.arange(7)\n",
    "plt.loglog(k, linalg_timer, label = \"Time for np.linalg.solve()\", color = 'green')\n",
    "plt.loglog(k, gaussian_timer, label = \"Time for Gaussian Elimination\", color = 'red')\n",
    "plt.xlabel(\"k\")\n",
    "plt.ylabel(\"total computation time per k\")\n",
    "plt.title(\"Computation time of np.linalg.solve() vs Gaussian Elimiantion\")\n",
    "plt.legend()\n"
   ]
  },
  {
   "cell_type": "markdown",
   "metadata": {},
   "source": [
    "## Exercise 2\n",
    "#### (2a)\n",
    "Using the given Fredholm integral equation of second kind, let's subsitute the equation with the provided $a, b, f(x)$ and let $u(t) = t^2$. \n",
    "$$u(x) = 3x^2 + 4 - 2e^x - e^{1-x} + \\int_{0}^{1}e^{|x-t|}t^2dt$$\n",
    "We need to seperate the absolute values to integrate.\n",
    "$$u(x) = 3x^2 + 4 - 2e^x - e^{1-x} + \\int_{0}^{x}e^{(x-t)}t^2dt + \\int{x}{1}e^{(t-x)}t^2dt$$ <br/><br/>\n",
    "\n",
    "$\\int_{0}^{x}e^{x-t}t^2dt$\n",
    "> $ = e^x \\int_{0}^{x}\\frac{t^2}{e^t}dt$ <br/> $ = e^x[2-e^{-x}(x^2+2x+2)]$ <br/> $ = 2e^x-(x^2+2x+2)$\n",
    "\n",
    "$\\int_{x}^{1}e^{t-x}t^2dt$\n",
    "> $ = \\frac{1}{e^x}\\int_{x}{1}e^tt^2dt$ <br/> $ = (-x^2+2x-2)+\\frac{e}{e^x}$ <br/> $ = (-x^2+2x-2)+ e^{1-x}$\n",
    "\n",
    "Now combine with the rest of the equation:\n",
    "$$u(x) = 3x^2 + 4 - 2e^x - e^{1-x} + 2e^x-(x^2+2x+2) +(-x^2+2x-2)+ e^{1-x}$$\n",
    "\n",
    "Simplify, and we have $u(x) = x^2$\n",
    "\n",
    "#### (2b)\n",
    "In the cell below I will attempt at 2b"
   ]
  },
  {
   "cell_type": "code",
   "execution_count": 16,
   "metadata": {},
   "outputs": [
    {
     "name": "stdout",
     "output_type": "stream",
     "text": [
      "Errors from approximating using gaussian elmination and backward substitution \n",
      "\n",
      "m =  10  :  0.1263236691832471 \n",
      "\n",
      "m =  20  :  0.06393896038513947 \n",
      "\n",
      "m =  40  :  0.03215687466537598 \n",
      "\n",
      "m =  80  :  0.016124526621963398 \n",
      "\n",
      "m =  160  :  0.008073697917371891 \n",
      "\n"
     ]
    }
   ],
   "source": [
    "m = [10, 20, 40, 80, 160];\n",
    "\n",
    "f = lambda x: 3*(x**2) + 4 - 2*np.exp(x) - np.exp(1-x)\n",
    "K = lambda x,t: np.exp(np.abs(x-t))\n",
    "\n",
    "def matrix_A(n):\n",
    "    A = np.zeros((n,n))\n",
    "    b = np.random.rand(n)\n",
    "    x = np.linspace(0,1,n)\n",
    "    h = 1/n\n",
    "    for i in range(n):\n",
    "        for j in range(n):\n",
    "            if j == 0 or j == m:\n",
    "                A[i,j] = -h/2 * K(x[i], x[j])\n",
    "            else:\n",
    "                A[i,j] = -h*K(x[i], x[j])\n",
    "        A[i,i] = A[i,i] + 1\n",
    "        b[i] = f(x[i])\n",
    "    return A, b, x, h\n",
    "\n",
    "errors = []\n",
    "for k in range(len(m)):\n",
    "    A, b, x, h = matrix_A(m[k]+1)\n",
    "    U, y = gaussian_elimination(A, b)\n",
    "    estimate = backward_sub(U, y)\n",
    "    our_u = x**2\n",
    "    errors.append(max(abs(our_u - estimate)))\n",
    "    \n",
    "print(\"Errors from approximating using gaussian elmination and backward substitution \\n\")\n",
    "for i in range(len(m)):\n",
    "    print(\"m = \", m[i], \" : \", errors[i], '\\n')\n"
   ]
  },
  {
   "cell_type": "code",
   "execution_count": null,
   "metadata": {},
   "outputs": [],
   "source": []
  },
  {
   "cell_type": "code",
   "execution_count": null,
   "metadata": {},
   "outputs": [],
   "source": []
  }
 ],
 "metadata": {
  "kernelspec": {
   "display_name": "Python 3",
   "language": "python",
   "name": "python3"
  },
  "language_info": {
   "codemirror_mode": {
    "name": "ipython",
    "version": 3
   },
   "file_extension": ".py",
   "mimetype": "text/x-python",
   "name": "python",
   "nbconvert_exporter": "python",
   "pygments_lexer": "ipython3",
   "version": "3.6.3"
  }
 },
 "nbformat": 4,
 "nbformat_minor": 4
}
